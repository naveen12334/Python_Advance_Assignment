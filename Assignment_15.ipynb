{
 "cells": [
  {
   "cell_type": "markdown",
   "metadata": {},
   "source": [
    "# Assignment_15"
   ]
  },
  {
   "cell_type": "markdown",
   "metadata": {},
   "source": [
    "# 1.\tWhat are the new features added in Python 3.8 version?"
   ]
  },
  {
   "cell_type": "markdown",
   "metadata": {},
   "source": [
    "Ans->\n",
    "Positional-only parameters(/)\n",
    "\n",
    "There is a new function parameter syntax “/” which indicates that some function parameters must be specified positionally and can’t be used as keyword arguments.\n",
    "            \n",
    "Assignment Expressions(:=)\n",
    "\n",
    "This operator is used to assign and return a value in the same expression. This removes the need for initializing the variable upfront.\n",
    "\n",
    "f-strings now support “=”\n",
    "\n",
    "This string formatting mechanism is known as Literal String Interpolation or more commonly as F-strings (because of the leading f character preceding the string literal). The idea behind f-strings is to make string interpolation simpler. Python 3.8 allows the use of the above-discussed assignment operator and equal sign (=) inside the f-strings.\n",
    "                    \n",
    "reversed() works with a dictionary\n",
    "Unlike Python 3.7, now in Python 3.8, the built-in method “reversed()” can be used for accessing the elements in the reverse order of insertion.\n",
    "        \n",
    "No parentheses for return and yield statements\n",
    "‘yield’ and ‘return’ statements do not require parentheses to return multiple values.\n",
    "        \n",
    "pow() function\n",
    "In the three-argument form of pow(), when the exponent is -1, it calculates the modular multiplicative inverse of the given value.\n",
    "\n",
    "\n",
    "Syntax Warning\n",
    "If you miss a comma in your code such as a = [(1, 2) (3, 4)], instead of throwing TypeError, it displays an informative Syntax warning."
   ]
  },
  {
   "cell_type": "markdown",
   "metadata": {},
   "source": [
    "# 2.\tWhat is monkey patching in Python?"
   ]
  },
  {
   "cell_type": "markdown",
   "metadata": {},
   "source": [
    "Ans->\n",
    "In python, monkey patching refers to run-time modifications of a class or module. In Python, we can actually change the behavior of code at run-time."
   ]
  },
  {
   "cell_type": "markdown",
   "metadata": {},
   "source": [
    "# 3.\tWhat is the difference between a shallow copy and deep copy?"
   ]
  },
  {
   "cell_type": "markdown",
   "metadata": {},
   "source": [
    "Ans-> In python, when we use = operator, it doesnot create a copy of the object. It just creates the variable, which shares a reference to the same memory location. This is called as shallow copy. In deep copy, new object is a copy of old object and it is created at different memory address and any changes made to new object won't be reflected in old object."
   ]
  },
  {
   "cell_type": "markdown",
   "metadata": {},
   "source": [
    "# 4.\tWhat is the maximum possible length of an identifier?"
   ]
  },
  {
   "cell_type": "markdown",
   "metadata": {},
   "source": [
    "Ans->The maximum possible length of an identifier is not defined in Python. It can be any number."
   ]
  },
  {
   "cell_type": "markdown",
   "metadata": {},
   "source": [
    "# 5.\tWhat is generator comprehension?"
   ]
  },
  {
   "cell_type": "markdown",
   "metadata": {},
   "source": [
    "Ans->It is like a list comprehension but it returns an iteraor. We use () instead of [] to achieve this."
   ]
  },
  {
   "cell_type": "code",
   "execution_count": 1,
   "metadata": {},
   "outputs": [
    {
     "name": "stdout",
     "output_type": "stream",
     "text": [
      "<generator object <genexpr> at 0x0000022A66376AC8>\n",
      "0\n",
      "1\n",
      "2\n",
      "3\n",
      "4\n"
     ]
    }
   ],
   "source": [
    "numbers = (i for i in range(5))\n",
    "\n",
    "print(numbers)\n",
    "\n",
    "print(next(numbers))\n",
    "print(next(numbers))\n",
    "print(next(numbers))\n",
    "print(next(numbers))\n",
    "print(next(numbers))"
   ]
  }
 ],
 "metadata": {
  "kernelspec": {
   "display_name": "Python 3",
   "language": "python",
   "name": "python3"
  },
  "language_info": {
   "codemirror_mode": {
    "name": "ipython",
    "version": 3
   },
   "file_extension": ".py",
   "mimetype": "text/x-python",
   "name": "python",
   "nbconvert_exporter": "python",
   "pygments_lexer": "ipython3",
   "version": "3.7.9"
  }
 },
 "nbformat": 4,
 "nbformat_minor": 5
}
